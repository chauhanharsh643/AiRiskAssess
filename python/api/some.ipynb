{
 "cells": [
  {
   "cell_type": "code",
   "execution_count": 49,
   "metadata": {},
   "outputs": [],
   "source": [
    "from transformers import GPT2LMHeadModel, GPT2Tokenizer\n",
    "\n",
    "def gen1(text):\n",
    "    model = GPT2LMHeadModel.from_pretrained(\"gpt2\")\n",
    "    tokenizer = GPT2Tokenizer.from_pretrained(\"gpt2\")\n",
    "\n",
    "    prompt = f\"\"\"\n",
    "Extract the following information from the medical report:\n",
    "\n",
    "- Age\n",
    "- Sex\n",
    "- Chest Pain\n",
    "- Cholesterol\n",
    "- Resting Blood Pressure (trestbps)\n",
    "- Blood Sugar\n",
    "- Resting ECG (restecg)\n",
    "- Maximum Heart Rate Achieved (thalach)\n",
    "- Exercise Induced Angina (exang)\n",
    "- ST Depression (oldpeak)\n",
    "\n",
    "Report Text:\n",
    "{text}\n",
    "\n",
    "\"\"\"\n",
    "    inputs = tokenizer(prompt, return_tensors=\"pt\", max_length=1024, truncation=True)\n",
    "\n",
    "    in_ids = model.generate(inputs.input_ids, max_length=1024, pad_token_id=tokenizer.eos_token_id)\n",
    "    response = tokenizer.decode(in_ids[0], skip_special_tokens=True, clean_up_tokenization_spaces=False)\n",
    "\n",
    "    return response"
   ]
  },
  {
   "cell_type": "code",
   "execution_count": 50,
   "metadata": {},
   "outputs": [],
   "source": [
    "text1 = \"1\\n128\\n93\\n4\\n5\\n7\\nTHECOMPLETEBLOODCOUNTSAMPLEREPORT\\nDifferentlaboratoriesgeneratereportsthatcanvarygreatlyinappearanceandintheorderandkindof\\ninformationincluded.ThisisoneexampleofwhatalabreportforaCompleteBloodCountmaylooklike.\\nNamesandplacesusedhavebeenmadeupforillustrativepurposesonly.Thenumberedkeytotheright\\nexplainsafewofthereportelements.\\nUniversityMedicalCenter,Dept.ofPathology ReportDate/Time:\\n123UniversityWay,City,ST12345 02/10/2014 16:402\\nName: Doe,JohnQ. Age/Sex:73/M DOB: 01/01/1941\\nPatientID:987654321 Status: 6Routine\\nOrderingDr:Smith,PeterMD PhysicianCopyfor: Smith,JaneMD\\nSPEC#: 223456 CollectionDate/Time:02/10/1414:3010\\nReceivedDate/Time:02/10/1415:0011\\nSPECIMEN:Wholeblood\\nORDERED:CompleteBloodCountandWhiteBloodCellDifferential\\nQUERIES: [Commentsandtestinginstructions]\\n13 14 15 16 17\\nTest Normal Abnormal Flag Units ReferenceRange\\nCOMPLETEBLOODCOUNT\\nWhiteBloodCell(WBC) 6.9 K/mcL 4.8-10.8\\nRedBloodCell(RBC) 1.8 LM/mcL 4.7-6.1\\nHemoglobin(HB/Hgb)) 6.5 L*g/dL 14.0-18.0\\nHematocrit(HCT) 19.5 L% 42-52\\nMeanCellVolume(MCV) 109.6 HfL 80-100\\nMeanCellHemoglobin(MCH) 36.5 Hpg 27.0-32.0\\nMeanCellHbConc(MCHC) 33.3 g/dL 32.0-36.0\\nRedCellDistWidth(RDW) 16.0 H% 11.5-14.5\\nPlateletcount 180 K/mcL 150-450\\nMeanPlateletVolume 7.9 fL 7.5-11.0\\nWBCDifferential\\nNeutrophil(Neut) 50 % 33-73\\nLymphocyte(Lymph) 36 % 13-52\\nMonocyte(Mono) 8 % 0-10\\nCholesterol(chol) 119 mg/dL 0-200\\nBasophil(Baso) 1 % 0-2\\nNeutrophil,Absolute 3.5 K/mcL 1.8-7.8\\nLymphocyte,Absolute 2.5 K/mcL 1.0-4.8\\nMonocyte,Absolute 0.6 K/mcL 0-0.8\\nEosinophil,Absolute 0.4 K/mcL 0-0.45\\nBasophil,Absolute 0.1 K/mcL 0-0.2\\nFlagKey:L=AbnormalLow,H=AbnormalHigh,=criticalvalue\\nComment:Hgbof6.5andHctof19.5reportedtoDr.JSmithat15:20on2/10/14byM.Peters18\\nENDOFREPORT*\""
   ]
  },
  {
   "cell_type": "code",
   "execution_count": 57,
   "metadata": {},
   "outputs": [],
   "source": [
    "text_without_newlines = text1.replace('\\n', ' ')"
   ]
  },
  {
   "cell_type": "code",
   "execution_count": 52,
   "metadata": {},
   "outputs": [],
   "source": [
    "import re\n",
    "text = re.sub(r'\\s+', ' ', text_without_newlines)"
   ]
  },
  {
   "cell_type": "code",
   "execution_count": 53,
   "metadata": {},
   "outputs": [],
   "source": [
    "import os\n",
    "\n",
    "os.environ['CURL_CA_BUNDLE'] = ''"
   ]
  },
  {
   "cell_type": "code",
   "execution_count": 54,
   "metadata": {},
   "outputs": [
    {
     "name": "stderr",
     "output_type": "stream",
     "text": [
      "c:\\Users\\chauh\\AppData\\Local\\Programs\\Python\\Python310\\lib\\site-packages\\huggingface_hub\\file_download.py:1132: FutureWarning: `resume_download` is deprecated and will be removed in version 1.0.0. Downloads always resume when possible. If you want to force a new download, use `force_download=True`.\n",
      "  warnings.warn(\n"
     ]
    }
   ],
   "source": [
    "res = gen1(text)"
   ]
  },
  {
   "cell_type": "code",
   "execution_count": 55,
   "metadata": {},
   "outputs": [
    {
     "name": "stdout",
     "output_type": "stream",
     "text": [
      "\n",
      "Extract the following information from the medical report:\n",
      "\n",
      "- Age\n",
      "- Sex\n",
      "- Chest Pain\n",
      "- Cholesterol\n",
      "- Resting Blood Pressure (trestbps)\n",
      "- Blood Sugar\n",
      "- Resting ECG (restecg)\n",
      "- Maximum Heart Rate Achieved (thalach)\n",
      "- Exercise Induced Angina (exang)\n",
      "- ST Depression (oldpeak)\n",
      "\n",
      "Report Text:\n",
      "1 128 93 4 5 7 THECOMPLETEBLOODCOUNTSAMPLEREPORT Differentlaboratoriesgeneratereportsthatcanvarygreatlyinappearanceandintheorderandkindof informationincluded.ThisisoneexampleofwhatalabreportforaCompleteBloodCountmaylooklike. Namesandplacesusedhavebeenmadeupforillustrativepurposesonly.Thenumberedkeytotheright explainsafewofthereportelements. UniversityMedicalCenter,Dept.ofPathology ReportDate/Time: 123UniversityWay,City,ST12345 02/10/2014 16:402 Name: Doe,JohnQ. Age/Sex:73/M DOB: 01/01/1941 PatientID:987654321 Status: 6Routine OrderingDr:Smith,PeterMD PhysicianCopyfor: Smith,JaneMD SPEC#: 223456 CollectionDate/Time:02/10/1414:3010 ReceivedDate/Time:02/10/1415:0011 SPECIMEN:Wholeblood ORDERED:CompleteBloodCountandWhiteBloodCellDifferential QUERIES: [Commentsandtestinginstructions] 13 14 15 16 17 Test Normal Abnormal Flag Units ReferenceRange COMPLETEBLOODCOUNT WhiteBloodCell(WBC) 6.9 K/mcL 4.8-10.8 RedBloodCell(RBC) 1.8 LM/mcL 4.7-6.1 Hemoglobin(HB/Hgb)) 6.5 L*g/dL 14.0-18.0 Hematocrit(HCT) 19.5 L% 42-52 MeanCellVolume(MCV) 109.6 HfL 80-100 MeanCellHemoglobin(MCH) 36.5 Hpg 27.0-32.0 MeanCellHbConc(MCHC) 33.3 g/dL 32.0-36.0 RedCellDistWidth(RDW) 16.0 H% 11.5-14.5 Plateletcount 180 K/mcL 150-450 MeanPlateletVolume 7.9 fL 7.5-11.0 WBCDifferential Neutrophil(Neut) 50 % 33-73 Lymphocyte(Lymph) 36 % 13-52 Monocyte(Mono) 8 % 0-10 Cholesterol(chol) 119 mg/dL 0-200 Basophil(Baso) 1 % 0-2 Neutrophil,Absolute 3.5 K/mcL 1.8-7.8 Lymphocyte,Absolute 2.5 K/mcL 1.0-4.8 Monocyte,Absolute 0.6 K/mcL 0-0.8 Eosinophil,Absolute 0.4 K/mcL 0-0.45 Basophil,Absolute 0.1 K/mcL 0-0.2 FlagKey:L=AbnormalLow,H=AbnormalHigh,=criticalvalue Comment:Hgbof6.5andHctof19.5reportedtoDr.JSmithat15:20on2/10/14byM.Peters18 ENDOFREPORT*\n",
      "\n",
      "\n",
      "*This is a reference to the National Institutes of Health's (NIH) National Blood Test Program (NBT) and the National Institute of Health's (NIC) National Blood Test Program (NBT) are the two primary blood tests used to diagnose and treat blood disorders. The NBT is a standardized blood test that is administered to all U.S. adults. The NBT is administered to all U.S. adults by a physician who is licensed to practice medicine in the United States. The NBT is administered to all U.S. adults by a physician who is licensed to practice medicine in the United States. The NBT is administered to all U.S. adults by a physician who is licensed to practice medicine in the United States. The NBT is administered to all U.S. adults by a physician who is licensed to practice medicine in the United States. The NBT is administered to all U.S. adults by a physician who is licensed to practice medicine in the United States. The NBT is administered to all U.S. adults by a physician who is licensed to practice medicine in the United States. The NBT is administered to all U.S. adults by a physician who is licensed to practice medicine in the United States\n"
     ]
    }
   ],
   "source": [
    "print(res)"
   ]
  },
  {
   "cell_type": "code",
   "execution_count": 56,
   "metadata": {},
   "outputs": [
    {
     "name": "stdout",
     "output_type": "stream",
     "text": [
      "Age: 73\n",
      "Sex: M\n",
      "Cholesterol: 119\n",
      "Mean Platelet Volume: 7.9\n"
     ]
    }
   ],
   "source": [
    "report = res\n",
    "\n",
    "# Splitting the report into parts to easily locate needed values\n",
    "parts = report.split()\n",
    "\n",
    "# Define a function to get the value after a given keyword\n",
    "def get_value_after_keyword(parts, keyword):\n",
    "    for i, part in enumerate(parts):\n",
    "        if keyword in part:\n",
    "            # The value is the next item in the list\n",
    "            return parts[i + 1]\n",
    "    return None\n",
    "\n",
    "# Extracting the values\n",
    "def extract_age_sex(parts):\n",
    "    for i, part in enumerate(parts):\n",
    "        if \"Age/Sex\" in part:\n",
    "            age_sex_str = parts[i].split(\":\")[1]  # Split based on ':'\n",
    "            age_sex_list = age_sex_str.split(\"/\")\n",
    "            if len(age_sex_list) == 2:\n",
    "                return age_sex_list[0], age_sex_list[1]\n",
    "    return None, None\n",
    "\n",
    "# Use the function to get age and sex\n",
    "age, sex = extract_age_sex(parts)\n",
    "cholesterol = get_value_after_keyword(parts, \"Cholesterol(chol)\")\n",
    "mean_platelet_volume = get_value_after_keyword(parts, \"MeanPlateletVolume\")\n",
    "\n",
    "# Print extracted values\n",
    "print(\"Age:\", age)\n",
    "print(\"Sex:\", sex)\n",
    "print(\"Cholesterol:\", cholesterol)\n",
    "print(\"Mean Platelet Volume:\", mean_platelet_volume)\n"
   ]
  }
 ],
 "metadata": {
  "kernelspec": {
   "display_name": "Python 3",
   "language": "python",
   "name": "python3"
  },
  "language_info": {
   "codemirror_mode": {
    "name": "ipython",
    "version": 3
   },
   "file_extension": ".py",
   "mimetype": "text/x-python",
   "name": "python",
   "nbconvert_exporter": "python",
   "pygments_lexer": "ipython3",
   "version": "3.10.9"
  }
 },
 "nbformat": 4,
 "nbformat_minor": 2
}
